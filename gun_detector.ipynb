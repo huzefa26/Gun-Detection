{
  "nbformat": 4,
  "nbformat_minor": 0,
  "metadata": {
    "colab": {
      "name": "Untitled1.ipynb",
      "version": "0.3.2",
      "provenance": [],
      "collapsed_sections": []
    },
    "kernelspec": {
      "name": "python3",
      "display_name": "Python 3"
    }
  },
  "cells": [
    {
      "metadata": {
        "id": "lCyiZOTc38ST",
        "colab_type": "code",
        "outputId": "e6befc42-d737-4f01-c377-ed51d138f9ed",
        "colab": {
          "base_uri": "https://localhost:8080/",
          "height": 316
        }
      },
      "cell_type": "code",
      "source": [
        "!pip install PyDrive"
      ],
      "execution_count": 0,
      "outputs": [
        {
          "output_type": "stream",
          "text": [
            "Collecting PyDrive\n",
            "\u001b[?25l  Downloading https://files.pythonhosted.org/packages/52/e0/0e64788e5dd58ce2d6934549676243dc69d982f198524be9b99e9c2a4fd5/PyDrive-1.3.1.tar.gz (987kB)\n",
            "\u001b[K    100% |████████████████████████████████| 993kB 19.5MB/s \n",
            "\u001b[?25hRequirement already satisfied: google-api-python-client>=1.2 in /usr/local/lib/python3.6/dist-packages (from PyDrive) (1.6.7)\n",
            "Requirement already satisfied: oauth2client>=4.0.0 in /usr/local/lib/python3.6/dist-packages (from PyDrive) (4.1.3)\n",
            "Requirement already satisfied: PyYAML>=3.0 in /usr/local/lib/python3.6/dist-packages (from PyDrive) (3.13)\n",
            "Requirement already satisfied: httplib2<1dev,>=0.9.2 in /usr/local/lib/python3.6/dist-packages (from google-api-python-client>=1.2->PyDrive) (0.11.3)\n",
            "Requirement already satisfied: uritemplate<4dev,>=3.0.0 in /usr/local/lib/python3.6/dist-packages (from google-api-python-client>=1.2->PyDrive) (3.0.0)\n",
            "Requirement already satisfied: six<2dev,>=1.6.1 in /usr/local/lib/python3.6/dist-packages (from google-api-python-client>=1.2->PyDrive) (1.11.0)\n",
            "Requirement already satisfied: pyasn1-modules>=0.0.5 in /usr/local/lib/python3.6/dist-packages (from oauth2client>=4.0.0->PyDrive) (0.2.4)\n",
            "Requirement already satisfied: rsa>=3.1.4 in /usr/local/lib/python3.6/dist-packages (from oauth2client>=4.0.0->PyDrive) (4.0)\n",
            "Requirement already satisfied: pyasn1>=0.1.7 in /usr/local/lib/python3.6/dist-packages (from oauth2client>=4.0.0->PyDrive) (0.4.5)\n",
            "Building wheels for collected packages: PyDrive\n",
            "  Building wheel for PyDrive (setup.py) ... \u001b[?25ldone\n",
            "\u001b[?25h  Stored in directory: /root/.cache/pip/wheels/fa/d2/9a/d3b6b506c2da98289e5d417215ce34b696db856643bad779f4\n",
            "Successfully built PyDrive\n",
            "Installing collected packages: PyDrive\n",
            "Successfully installed PyDrive-1.3.1\n"
          ],
          "name": "stdout"
        }
      ]
    },
    {
      "metadata": {
        "id": "sLTh2_MM4ADs",
        "colab_type": "code",
        "colab": {}
      },
      "cell_type": "code",
      "source": [
        "from pydrive.auth import GoogleAuth\n",
        "from pydrive.drive import GoogleDrive\n",
        "from google.colab import auth\n",
        "from oauth2client.client import GoogleCredentials\n",
        "\n",
        "auth.authenticate_user()\n",
        "gauth = GoogleAuth()\n",
        "gauth.credentials = GoogleCredentials.get_application_default()\n",
        "drive = GoogleDrive(gauth)"
      ],
      "execution_count": 0,
      "outputs": []
    },
    {
      "metadata": {
        "id": "qtRUknDfojqh",
        "colab_type": "code",
        "outputId": "4639424e-a3b0-4437-d138-d6ca18e2e3c3",
        "colab": {
          "base_uri": "https://localhost:8080/",
          "height": 33
        }
      },
      "cell_type": "code",
      "source": [
        "import numpy as np\n",
        "import math\n",
        "import tensorflow as tf\n",
        "import pandas as pd\n",
        "import matplotlib.pyplot as plt\n",
        "import keras\n",
        "from keras.models import Sequential\n",
        "from keras.layers import Dense, Dropout, Flatten\n",
        "from keras.layers import Conv2D, MaxPooling2D\n",
        "from keras.utils import to_categorical\n",
        "from keras.preprocessing import image\n",
        "from sklearn.model_selection import train_test_split\n",
        "from keras.utils import to_categorical\n",
        "from tqdm import tqdm"
      ],
      "execution_count": 0,
      "outputs": [
        {
          "output_type": "stream",
          "text": [
            "Using TensorFlow backend.\n"
          ],
          "name": "stderr"
        }
      ]
    },
    {
      "metadata": {
        "id": "wYrigeCzFTRN",
        "colab_type": "code",
        "outputId": "3952ae50-f9e6-45e1-b9bb-6688b3ca4652",
        "colab": {
          "base_uri": "https://localhost:8080/",
          "height": 5883
        }
      },
      "cell_type": "code",
      "source": [
        "download = drive.CreateFile({'id': '1dRtUpCQPNJ9jJfyhZy-IM128ns7jU524'})\n",
        "download.GetContentFile('train.zip')\n",
        "!unzip train.zip"
      ],
      "execution_count": 0,
      "outputs": [
        {
          "output_type": "stream",
          "text": [
            "Archive:  train.zip\n",
            "  inflating: _labels.csv             \n",
            "  inflating: images/1.jpg            \n",
            "  inflating: images/10.jpg           \n",
            "  inflating: images/100.jpg          \n",
            "  inflating: images/101.jpg          \n",
            "  inflating: images/102.jpg          \n",
            "  inflating: images/103.jpg          \n",
            "  inflating: images/104.jpg          \n",
            "  inflating: images/105.jpg          \n",
            "  inflating: images/106.jpg          \n",
            "  inflating: images/107.jpg          \n",
            "  inflating: images/108.jpg          \n",
            "  inflating: images/109.jpg          \n",
            "  inflating: images/11.jpg           \n",
            "  inflating: images/110.jpg          \n",
            "  inflating: images/111.jpg          \n",
            "  inflating: images/112.jpg          \n",
            "  inflating: images/113.jpg          \n",
            "  inflating: images/114.jpg          \n",
            "  inflating: images/115.jpg          \n",
            "  inflating: images/116.jpg          \n",
            "  inflating: images/117.jpg          \n",
            "  inflating: images/118.jpg          \n",
            "  inflating: images/119.jpg          \n",
            "  inflating: images/12.jpg           \n",
            "  inflating: images/120.jpg          \n",
            "  inflating: images/121.jpg          \n",
            "  inflating: images/122.jpg          \n",
            "  inflating: images/123.jpg          \n",
            "  inflating: images/124.jpg          \n",
            "  inflating: images/125.jpg          \n",
            "  inflating: images/126.jpg          \n",
            "  inflating: images/127.jpg          \n",
            "  inflating: images/128.jpg          \n",
            "  inflating: images/129.jpg          \n",
            "  inflating: images/13.jpg           \n",
            "  inflating: images/130.jpg          \n",
            "  inflating: images/131.jpg          \n",
            "  inflating: images/132.jpg          \n",
            "  inflating: images/133.jpg          \n",
            "  inflating: images/134.jpg          \n",
            "  inflating: images/135.jpg          \n",
            "  inflating: images/136.jpg          \n",
            "  inflating: images/137.jpg          \n",
            "  inflating: images/138.jpg          \n",
            "  inflating: images/139.jpg          \n",
            "  inflating: images/14.jpg           \n",
            "  inflating: images/140.jpg          \n",
            "  inflating: images/141.jpg          \n",
            "  inflating: images/142.jpg          \n",
            "  inflating: images/143.jpg          \n",
            "  inflating: images/144.jpg          \n",
            "  inflating: images/145.jpg          \n",
            "  inflating: images/146.jpg          \n",
            "  inflating: images/147.jpg          \n",
            "  inflating: images/148.jpg          \n",
            "  inflating: images/149.jpg          \n",
            "  inflating: images/15.jpg           \n",
            "  inflating: images/150.jpg          \n",
            "  inflating: images/151.jpg          \n",
            "  inflating: images/152.jpg          \n",
            "  inflating: images/153.jpg          \n",
            "  inflating: images/154.jpg          \n",
            "  inflating: images/155.jpg          \n",
            "  inflating: images/156.jpg          \n",
            "  inflating: images/157.jpg          \n",
            "  inflating: images/158.jpg          \n",
            "  inflating: images/159.jpg          \n",
            "  inflating: images/16.jpg           \n",
            "  inflating: images/160.jpg          \n",
            "  inflating: images/161.jpg          \n",
            "  inflating: images/162.jpg          \n",
            "  inflating: images/163.jpg          \n",
            "  inflating: images/164.jpg          \n",
            "  inflating: images/165.jpg          \n",
            "  inflating: images/166.jpg          \n",
            "  inflating: images/167.jpg          \n",
            "  inflating: images/168.jpg          \n",
            "  inflating: images/169.jpg          \n",
            "  inflating: images/17.jpg           \n",
            "  inflating: images/170.jpg          \n",
            "  inflating: images/171.jpg          \n",
            "  inflating: images/172.jpg          \n",
            "  inflating: images/173.jpg          \n",
            "  inflating: images/174.jpg          \n",
            "  inflating: images/175.jpg          \n",
            "  inflating: images/176.jpg          \n",
            "  inflating: images/177.jpg          \n",
            "  inflating: images/178.jpg          \n",
            "  inflating: images/179.jpg          \n",
            "  inflating: images/18.jpg           \n",
            "  inflating: images/180.jpg          \n",
            "  inflating: images/181.jpg          \n",
            "  inflating: images/182.jpg          \n",
            "  inflating: images/183.jpg          \n",
            "  inflating: images/184.jpg          \n",
            "  inflating: images/185.jpg          \n",
            "  inflating: images/186.jpg          \n",
            "  inflating: images/187.jpg          \n",
            "  inflating: images/188.jpg          \n",
            "  inflating: images/189.jpg          \n",
            "  inflating: images/19.jpg           \n",
            "  inflating: images/190.jpg          \n",
            "  inflating: images/191.jpg          \n",
            "  inflating: images/192.jpg          \n",
            "  inflating: images/193.jpg          \n",
            "  inflating: images/194.jpg          \n",
            "  inflating: images/195.jpg          \n",
            "  inflating: images/196.jpg          \n",
            "  inflating: images/197.jpg          \n",
            "  inflating: images/198.jpg          \n",
            "  inflating: images/199.jpg          \n",
            "  inflating: images/2.jpg            \n",
            "  inflating: images/20.jpg           \n",
            "  inflating: images/200.jpg          \n",
            "  inflating: images/201.jpg          \n",
            "  inflating: images/202.jpg          \n",
            "  inflating: images/203.jpg          \n",
            "  inflating: images/204.jpg          \n",
            "  inflating: images/205.jpg          \n",
            "  inflating: images/206.jpg          \n",
            "  inflating: images/207.jpg          \n",
            "  inflating: images/208.jpg          \n",
            "  inflating: images/209.jpg          \n",
            "  inflating: images/21.jpg           \n",
            "  inflating: images/210.jpg          \n",
            "  inflating: images/211.jpg          \n",
            "  inflating: images/212.jpg          \n",
            "  inflating: images/213.jpg          \n",
            "  inflating: images/214.jpg          \n",
            "  inflating: images/215.jpg          \n",
            "  inflating: images/216.jpg          \n",
            "  inflating: images/217.jpg          \n",
            "  inflating: images/218.jpg          \n",
            "  inflating: images/219.jpg          \n",
            "  inflating: images/22.jpg           \n",
            "  inflating: images/220.jpg          \n",
            "  inflating: images/221.jpg          \n",
            "  inflating: images/222.jpg          \n",
            "  inflating: images/223.jpg          \n",
            "  inflating: images/224.jpg          \n",
            "  inflating: images/225.jpg          \n",
            "  inflating: images/226.jpg          \n",
            "  inflating: images/227.jpg          \n",
            "  inflating: images/228.jpg          \n",
            "  inflating: images/229.jpg          \n",
            "  inflating: images/23.jpg           \n",
            "  inflating: images/230.jpg          \n",
            "  inflating: images/231.jpg          \n",
            "  inflating: images/232.jpg          \n",
            "  inflating: images/233.jpg          \n",
            "  inflating: images/234.jpg          \n",
            "  inflating: images/235.jpg          \n",
            "  inflating: images/236.jpg          \n",
            "  inflating: images/237.jpg          \n",
            "  inflating: images/238.jpg          \n",
            "  inflating: images/239.jpg          \n",
            "  inflating: images/24.jpg           \n",
            "  inflating: images/240.jpg          \n",
            "  inflating: images/241.jpg          \n",
            "  inflating: images/242.jpg          \n",
            "  inflating: images/243.jpg          \n",
            "  inflating: images/244.jpg          \n",
            "  inflating: images/245.jpg          \n",
            "  inflating: images/246.jpg          \n",
            "  inflating: images/247.jpg          \n",
            "  inflating: images/248.jpg          \n",
            "  inflating: images/249.jpg          \n",
            "  inflating: images/25.jpg           \n",
            "  inflating: images/250.jpg          \n",
            "  inflating: images/251.jpg          \n",
            "  inflating: images/252.jpg          \n",
            "  inflating: images/253.jpg          \n",
            "  inflating: images/254.jpg          \n",
            "  inflating: images/255.jpg          \n",
            "  inflating: images/256.jpg          \n",
            "  inflating: images/257.jpg          \n",
            "  inflating: images/258.jpg          \n",
            "  inflating: images/259.jpg          \n",
            "  inflating: images/26.jpg           \n",
            "  inflating: images/260.jpg          \n",
            "  inflating: images/261.jpg          \n",
            "  inflating: images/262.jpg          \n",
            "  inflating: images/263.jpg          \n",
            "  inflating: images/264.jpg          \n",
            "  inflating: images/265.jpg          \n",
            "  inflating: images/266.jpg          \n",
            "  inflating: images/267.jpg          \n",
            "  inflating: images/268.jpg          \n",
            "  inflating: images/269.jpg          \n",
            "  inflating: images/27.jpg           \n",
            "  inflating: images/270.jpg          \n",
            "  inflating: images/271.jpg          \n",
            "  inflating: images/272.jpg          \n",
            "  inflating: images/273.jpg          \n",
            "  inflating: images/274.jpg          \n",
            "  inflating: images/275.jpg          \n",
            "  inflating: images/276.jpg          \n",
            " extracting: images/277.jpg          \n",
            "  inflating: images/278.jpg          \n",
            "  inflating: images/279.jpg          \n",
            "  inflating: images/28.jpg           \n",
            "  inflating: images/280.jpg          \n",
            "  inflating: images/281.jpg          \n",
            "  inflating: images/282.jpg          \n",
            "  inflating: images/283.jpg          \n",
            "  inflating: images/284.jpg          \n",
            "  inflating: images/285.jpg          \n",
            "  inflating: images/286.jpg          \n",
            "  inflating: images/287.jpg          \n",
            "  inflating: images/288.jpg          \n",
            "  inflating: images/289.jpg          \n",
            "  inflating: images/29.jpg           \n",
            "  inflating: images/290.jpg          \n",
            "  inflating: images/291.jpg          \n",
            "  inflating: images/292.jpg          \n",
            "  inflating: images/293.jpg          \n",
            "  inflating: images/294.jpg          \n",
            "  inflating: images/295.jpg          \n",
            "  inflating: images/296.jpg          \n",
            "  inflating: images/297.jpg          \n",
            "  inflating: images/298.jpg          \n",
            "  inflating: images/299.jpg          \n",
            "  inflating: images/3.jpg            \n",
            "  inflating: images/30.jpg           \n",
            "  inflating: images/300.jpg          \n",
            "  inflating: images/301.jpg          \n",
            "  inflating: images/302.jpg          \n",
            "  inflating: images/303.jpg          \n",
            "  inflating: images/304.jpg          \n",
            "  inflating: images/305.jpg          \n",
            "  inflating: images/306.jpg          \n",
            "  inflating: images/307.jpg          \n",
            "  inflating: images/308.jpg          \n",
            "  inflating: images/309.jpg          \n",
            "  inflating: images/31.jpg           \n",
            "  inflating: images/310.jpg          \n",
            "  inflating: images/311.jpg          \n",
            "  inflating: images/312.jpg          \n",
            "  inflating: images/313.jpg          \n",
            "  inflating: images/314.jpg          \n",
            "  inflating: images/315.jpg          \n",
            "  inflating: images/316.jpg          \n",
            "  inflating: images/317.jpg          \n",
            "  inflating: images/318.jpg          \n",
            "  inflating: images/319.jpg          \n",
            "  inflating: images/32.jpg           \n",
            "  inflating: images/320.jpg          \n",
            "  inflating: images/321.jpg          \n",
            "  inflating: images/322.jpg          \n",
            "  inflating: images/323.jpg          \n",
            "  inflating: images/324.jpg          \n",
            "  inflating: images/325.jpg          \n",
            "  inflating: images/326.jpg          \n",
            "  inflating: images/327.jpg          \n",
            "  inflating: images/328.jpg          \n",
            "  inflating: images/329.jpg          \n",
            "  inflating: images/33.jpg           \n",
            "  inflating: images/330.jpg          \n",
            "  inflating: images/331.jpg          \n",
            "  inflating: images/332.jpg          \n",
            "  inflating: images/333.jpg          \n",
            "  inflating: images/334.jpg          \n",
            "  inflating: images/335.jpg          \n",
            "  inflating: images/336.jpg          \n",
            "  inflating: images/337.jpg          \n",
            "  inflating: images/338.jpg          \n",
            "  inflating: images/339.jpg          \n",
            "  inflating: images/34.jpg           \n",
            "  inflating: images/340.jpg          \n",
            "  inflating: images/341.jpg          \n",
            "  inflating: images/342.jpg          \n",
            "  inflating: images/343.jpg          \n",
            "  inflating: images/344.jpg          \n",
            "  inflating: images/345.jpg          \n",
            "  inflating: images/346.jpg          \n",
            "  inflating: images/347.jpg          \n",
            "  inflating: images/348.jpg          \n",
            "  inflating: images/349.jpg          \n",
            "  inflating: images/35.jpg           \n",
            "  inflating: images/350.jpg          \n",
            "  inflating: images/36.jpg           \n",
            "  inflating: images/37.jpg           \n",
            "  inflating: images/38.jpg           \n",
            "  inflating: images/39.jpg           \n",
            "  inflating: images/4.jpg            \n",
            "  inflating: images/40.jpg           \n",
            "  inflating: images/41.jpg           \n",
            "  inflating: images/42.jpg           \n",
            "  inflating: images/43.jpg           \n",
            "  inflating: images/44.jpg           \n",
            "  inflating: images/45.jpg           \n",
            "  inflating: images/46.jpg           \n",
            "  inflating: images/47.jpg           \n",
            "  inflating: images/48.jpg           \n",
            "  inflating: images/49.jpg           \n",
            "  inflating: images/5.jpg            \n",
            "  inflating: images/50.jpg           \n",
            "  inflating: images/51.jpg           \n",
            "  inflating: images/52.jpg           \n",
            "  inflating: images/53.jpg           \n",
            "  inflating: images/54.jpg           \n",
            "  inflating: images/55.jpg           \n",
            "  inflating: images/56.jpg           \n",
            "  inflating: images/57.jpg           \n",
            "  inflating: images/58.jpg           \n",
            "  inflating: images/59.jpg           \n",
            "  inflating: images/6.jpg            \n",
            "  inflating: images/60.jpg           \n",
            "  inflating: images/61.jpg           \n",
            "  inflating: images/62.jpg           \n",
            "  inflating: images/63.jpg           \n",
            "  inflating: images/64.jpg           \n",
            "  inflating: images/65.jpg           \n",
            "  inflating: images/66.jpg           \n",
            "  inflating: images/67.jpg           \n",
            "  inflating: images/68.jpg           \n",
            "  inflating: images/69.jpg           \n",
            "  inflating: images/7.jpg            \n",
            "  inflating: images/70.jpg           \n",
            " extracting: images/71.jpg           \n",
            "  inflating: images/72.jpg           \n",
            "  inflating: images/73.jpg           \n",
            "  inflating: images/74.jpg           \n",
            "  inflating: images/75.jpg           \n",
            "  inflating: images/76.jpg           \n",
            "  inflating: images/77.jpg           \n",
            "  inflating: images/78.jpg           \n",
            "  inflating: images/79.jpg           \n",
            "  inflating: images/8.jpg            \n",
            "  inflating: images/80.jpg           \n",
            "  inflating: images/81.jpg           \n",
            "  inflating: images/82.jpg           \n",
            "  inflating: images/83.jpg           \n",
            "  inflating: images/84.jpg           \n",
            "  inflating: images/85.jpg           \n",
            "  inflating: images/86.jpg           \n",
            "  inflating: images/87.jpg           \n",
            "  inflating: images/88.jpg           \n",
            "  inflating: images/89.jpg           \n",
            "  inflating: images/9.jpg            \n",
            "  inflating: images/90.jpg           \n",
            "  inflating: images/91.jpg           \n",
            "  inflating: images/92.jpg           \n",
            "  inflating: images/93.jpg           \n",
            "  inflating: images/94.jpg           \n",
            "  inflating: images/95.jpg           \n",
            "  inflating: images/96.jpg           \n",
            "  inflating: images/97.jpg           \n",
            "  inflating: images/98.jpg           \n",
            "  inflating: images/99.jpg           \n"
          ],
          "name": "stdout"
        }
      ]
    },
    {
      "metadata": {
        "id": "xLWnzd4KbsSk",
        "colab_type": "code",
        "outputId": "bb468dec-d5ee-489a-8b99-432bc24ffe8d",
        "colab": {
          "base_uri": "https://localhost:8080/",
          "height": 2533
        }
      },
      "cell_type": "code",
      "source": [
        "download = drive.CreateFile({'id': '1ha1cdaMvtuLL82RpIbRWsFzOvEW64Ehs'})\n",
        "download.GetContentFile('test.zip')\n",
        "!unzip test.zip"
      ],
      "execution_count": 0,
      "outputs": [
        {
          "output_type": "stream",
          "text": [
            "Archive:  test.zip\n",
            "  inflating: 1.jpg                   \n",
            "  inflating: 10.jpg                  \n",
            "  inflating: 100.jpg                 \n",
            "  inflating: 101.jpg                 \n",
            "  inflating: 102.jpg                 \n",
            "  inflating: 103.jpg                 \n",
            "  inflating: 104.jpg                 \n",
            "  inflating: 105.jpg                 \n",
            "  inflating: 106.jpg                 \n",
            "  inflating: 107.jpg                 \n",
            "  inflating: 108.jpg                 \n",
            "  inflating: 109.jpg                 \n",
            "  inflating: 11.jpg                  \n",
            "  inflating: 110.jpg                 \n",
            "  inflating: 111.jpg                 \n",
            "  inflating: 112.jpg                 \n",
            "  inflating: 113.jpg                 \n",
            "  inflating: 114.jpg                 \n",
            "  inflating: 115.jpg                 \n",
            "  inflating: 116.jpg                 \n",
            "  inflating: 117.jpg                 \n",
            "  inflating: 118.jpg                 \n",
            "  inflating: 119.jpg                 \n",
            "  inflating: 12.jpg                  \n",
            "  inflating: 120.jpg                 \n",
            "  inflating: 121.jpg                 \n",
            "  inflating: 122.jpg                 \n",
            "  inflating: 123.jpg                 \n",
            "  inflating: 124.jpg                 \n",
            "  inflating: 125.jpg                 \n",
            "  inflating: 126.jpg                 \n",
            "  inflating: 127.jpg                 \n",
            "  inflating: 128.jpg                 \n",
            "  inflating: 129.jpg                 \n",
            "  inflating: 13.jpg                  \n",
            "  inflating: 130.jpg                 \n",
            "  inflating: 131.jpg                 \n",
            "  inflating: 132.jpg                 \n",
            "  inflating: 133.jpg                 \n",
            "  inflating: 134.jpg                 \n",
            "  inflating: 135.jpg                 \n",
            "  inflating: 136.jpg                 \n",
            "  inflating: 137.jpg                 \n",
            "  inflating: 138.jpg                 \n",
            "  inflating: 139.jpg                 \n",
            "  inflating: 14.jpg                  \n",
            "  inflating: 140.jpg                 \n",
            "  inflating: 141.jpg                 \n",
            "  inflating: 142.jpg                 \n",
            "  inflating: 143.jpg                 \n",
            "  inflating: 144.jpg                 \n",
            "  inflating: 145.jpg                 \n",
            "  inflating: 146.jpg                 \n",
            "  inflating: 147.jpg                 \n",
            "  inflating: 148.jpg                 \n",
            "  inflating: 149.jpg                 \n",
            "  inflating: 15.jpg                  \n",
            "  inflating: 150.jpg                 \n",
            "  inflating: 16.jpg                  \n",
            "  inflating: 17.jpg                  \n",
            "  inflating: 18.jpg                  \n",
            "  inflating: 19.jpg                  \n",
            "  inflating: 2.jpg                   \n",
            "  inflating: 20.jpg                  \n",
            "  inflating: 21.jpg                  \n",
            "  inflating: 22.jpg                  \n",
            "  inflating: 23.jpg                  \n",
            "  inflating: 24.jpg                  \n",
            "  inflating: 25.jpg                  \n",
            "  inflating: 26.jpg                  \n",
            "  inflating: 27.jpg                  \n",
            "  inflating: 28.jpg                  \n",
            "  inflating: 29.jpg                  \n",
            "  inflating: 3.jpg                   \n",
            "  inflating: 30.jpg                  \n",
            "  inflating: 31.jpg                  \n",
            "  inflating: 32.jpg                  \n",
            "  inflating: 33.jpg                  \n",
            "  inflating: 34.jpg                  \n",
            "  inflating: 35.jpg                  \n",
            "  inflating: 36.jpg                  \n",
            "  inflating: 37.jpg                  \n",
            "  inflating: 38.jpg                  \n",
            "  inflating: 39.jpg                  \n",
            "  inflating: 4.jpg                   \n",
            "  inflating: 40.jpg                  \n",
            "  inflating: 41.jpg                  \n",
            "  inflating: 42.jpg                  \n",
            "  inflating: 43.jpg                  \n",
            "  inflating: 44.jpg                  \n",
            "  inflating: 45.jpg                  \n",
            "  inflating: 46.jpg                  \n",
            "  inflating: 47.jpg                  \n",
            "  inflating: 48.jpg                  \n",
            "  inflating: 49.jpg                  \n",
            "  inflating: 5.jpg                   \n",
            "  inflating: 50.jpg                  \n",
            "  inflating: 51.jpg                  \n",
            "  inflating: 52.jpg                  \n",
            "  inflating: 53.jpg                  \n",
            "  inflating: 54.jpg                  \n",
            "  inflating: 55.jpg                  \n",
            "  inflating: 56.jpg                  \n",
            "  inflating: 57.jpg                  \n",
            "  inflating: 58.jpg                  \n",
            "  inflating: 59.jpg                  \n",
            "  inflating: 6.jpg                   \n",
            "  inflating: 60.jpg                  \n",
            "  inflating: 61.jpg                  \n",
            "  inflating: 62.jpg                  \n",
            "  inflating: 63.jpg                  \n",
            "  inflating: 64.jpg                  \n",
            "  inflating: 65.jpg                  \n",
            "  inflating: 66.jpg                  \n",
            "  inflating: 67.jpg                  \n",
            "  inflating: 68.jpg                  \n",
            "  inflating: 69.jpg                  \n",
            "  inflating: 7.jpg                   \n",
            " extracting: 70.jpg                  \n",
            "  inflating: 71.jpg                  \n",
            "  inflating: 72.jpg                  \n",
            "  inflating: 73.jpg                  \n",
            "  inflating: 74.jpg                  \n",
            "  inflating: 75.jpg                  \n",
            "  inflating: 76.jpg                  \n",
            "  inflating: 77.jpg                  \n",
            "  inflating: 78.jpg                  \n",
            "  inflating: 79.jpg                  \n",
            "  inflating: 8.jpg                   \n",
            "  inflating: 80.jpg                  \n",
            "  inflating: 81.jpg                  \n",
            "  inflating: 82.jpg                  \n",
            "  inflating: 83.jpg                  \n",
            "  inflating: 84.jpg                  \n",
            "  inflating: 85.jpg                  \n",
            "  inflating: 86.jpg                  \n",
            "  inflating: 87.jpg                  \n",
            "  inflating: 88.jpg                  \n",
            "  inflating: 89.jpg                  \n",
            "  inflating: 9.jpg                   \n",
            "  inflating: 90.jpg                  \n",
            "  inflating: 91.jpg                  \n",
            "  inflating: 92.jpg                  \n",
            "  inflating: 93.jpg                  \n",
            "  inflating: 94.jpg                  \n",
            "  inflating: 95.jpg                  \n",
            "  inflating: 96.jpg                  \n",
            "  inflating: 97.jpg                  \n",
            "  inflating: 98.jpg                  \n",
            "  inflating: 99.jpg                  \n"
          ],
          "name": "stdout"
        }
      ]
    },
    {
      "metadata": {
        "id": "D7apHGbbckQX",
        "colab_type": "code",
        "outputId": "eadf0358-71e0-4628-ddb4-528bfc4c3f7d",
        "colab": {
          "base_uri": "https://localhost:8080/",
          "height": 33
        }
      },
      "cell_type": "code",
      "source": [
        "test_image = []\n",
        "ind=0\n",
        "for i in tqdm(range(150)):\n",
        "    ind+=1\n",
        "    img = image.load_img(str(ind)+'.jpg', target_size=(200,300,1), color_mode='grayscale')\n",
        "    img = image.img_to_array(img)\n",
        "    img = img/255\n",
        "    test_image.append(img)\n",
        "test = np.array(test_image)"
      ],
      "execution_count": 0,
      "outputs": [
        {
          "output_type": "stream",
          "text": [
            "100%|██████████| 150/150 [00:00<00:00, 192.34it/s]\n"
          ],
          "name": "stderr"
        }
      ]
    },
    {
      "metadata": {
        "id": "R-Hlb66IAs_X",
        "colab_type": "code",
        "colab": {}
      },
      "cell_type": "code",
      "source": [
        "\n",
        "train = pd.read_csv('_labels.csv',names=['id','gun'])"
      ],
      "execution_count": 0,
      "outputs": []
    },
    {
      "metadata": {
        "id": "6VYL-UyaAt6_",
        "colab_type": "code",
        "outputId": "98f9e37e-97c4-4ee8-8105-43cba413bc30",
        "colab": {
          "base_uri": "https://localhost:8080/",
          "height": 33
        }
      },
      "cell_type": "code",
      "source": [
        "train_image = []\n",
        "for i in tqdm(range(train.shape[0])):\n",
        "    img = image.load_img('images/'+train['id'][i].astype('str')+'.jpg', target_size=(200,300,1), color_mode='grayscale')\n",
        "    img = image.img_to_array(img)\n",
        "    img = img/255\n",
        "    train_image.append(img)\n",
        "X = np.array(train_image)\n"
      ],
      "execution_count": 0,
      "outputs": [
        {
          "output_type": "stream",
          "text": [
            "100%|██████████| 350/350 [00:02<00:00, 153.67it/s]\n"
          ],
          "name": "stderr"
        }
      ]
    },
    {
      "metadata": {
        "id": "IstjaPfoR64Z",
        "colab_type": "code",
        "colab": {}
      },
      "cell_type": "code",
      "source": [
        "y = train['gun'].values\n",
        "y = to_categorical(y, num_classes=2)"
      ],
      "execution_count": 0,
      "outputs": []
    },
    {
      "metadata": {
        "id": "WeJHu2XjAuGO",
        "colab_type": "code",
        "colab": {}
      },
      "cell_type": "code",
      "source": [
        "X_train, X_test, y_train, y_test = train_test_split(X, y, random_state=42, test_size=0.2)"
      ],
      "execution_count": 0,
      "outputs": []
    },
    {
      "metadata": {
        "id": "8vJNnaD6trUA",
        "colab_type": "code",
        "outputId": "79773c75-83d8-4441-b4d7-efdc162511e4",
        "colab": {
          "base_uri": "https://localhost:8080/",
          "height": 136
        }
      },
      "cell_type": "code",
      "source": [
        "model = Sequential()\n",
        "model.add(Conv2D(16, kernel_size=(3, 3),activation='relu',input_shape=(200,300,1)))\n",
        "model.add(Conv2D(32, (3, 3), strides=2, activation='relu'))\n",
        "model.add(MaxPooling2D(pool_size=(2, 2)))\n",
        "model.add(Conv2D(64, (3, 3), activation='relu'))\n",
        "model.add(MaxPooling2D(pool_size=(2, 2)))\n",
        "model.add(Dropout(0.25))\n",
        "model.add(Flatten())\n",
        "model.add(Dense(64, activation='relu'))\n",
        "model.add(Dropout(0.5))\n",
        "model.add(Dense(2, activation='softmax'))"
      ],
      "execution_count": 0,
      "outputs": [
        {
          "output_type": "stream",
          "text": [
            "WARNING:tensorflow:From /usr/local/lib/python3.6/dist-packages/tensorflow/python/framework/op_def_library.py:263: colocate_with (from tensorflow.python.framework.ops) is deprecated and will be removed in a future version.\n",
            "Instructions for updating:\n",
            "Colocations handled automatically by placer.\n",
            "WARNING:tensorflow:From /usr/local/lib/python3.6/dist-packages/keras/backend/tensorflow_backend.py:3445: calling dropout (from tensorflow.python.ops.nn_ops) with keep_prob is deprecated and will be removed in a future version.\n",
            "Instructions for updating:\n",
            "Please use `rate` instead of `keep_prob`. Rate should be set to `rate = 1 - keep_prob`.\n"
          ],
          "name": "stdout"
        }
      ]
    },
    {
      "metadata": {
        "id": "FMWEklCfS_GR",
        "colab_type": "code",
        "colab": {}
      },
      "cell_type": "code",
      "source": [
        "model.compile(loss='categorical_crossentropy',optimizer='Adam',metrics=['accuracy'])"
      ],
      "execution_count": 0,
      "outputs": []
    },
    {
      "metadata": {
        "id": "N9zOSyHBTDHB",
        "colab_type": "code",
        "outputId": "f91578c6-6ad6-45bc-f58c-280b406c748c",
        "colab": {
          "base_uri": "https://localhost:8080/",
          "height": 453
        }
      },
      "cell_type": "code",
      "source": [
        "model.fit(X_train, y_train, epochs=10, validation_data=(X_test, y_test))"
      ],
      "execution_count": 0,
      "outputs": [
        {
          "output_type": "stream",
          "text": [
            "WARNING:tensorflow:From /usr/local/lib/python3.6/dist-packages/tensorflow/python/ops/math_ops.py:3066: to_int32 (from tensorflow.python.ops.math_ops) is deprecated and will be removed in a future version.\n",
            "Instructions for updating:\n",
            "Use tf.cast instead.\n",
            "Train on 280 samples, validate on 70 samples\n",
            "Epoch 1/10\n",
            "280/280 [==============================] - 20s 73ms/step - loss: 0.8156 - acc: 0.4750 - val_loss: 0.7091 - val_acc: 0.3286\n",
            "Epoch 2/10\n",
            "280/280 [==============================] - 19s 67ms/step - loss: 0.6323 - acc: 0.5536 - val_loss: 0.6013 - val_acc: 0.7714\n",
            "Epoch 3/10\n",
            "280/280 [==============================] - 19s 67ms/step - loss: 0.4754 - acc: 0.8179 - val_loss: 0.4576 - val_acc: 0.8000\n",
            "Epoch 4/10\n",
            "280/280 [==============================] - 19s 68ms/step - loss: 0.3516 - acc: 0.8714 - val_loss: 0.5565 - val_acc: 0.7857\n",
            "Epoch 5/10\n",
            "280/280 [==============================] - 19s 68ms/step - loss: 0.2777 - acc: 0.9036 - val_loss: 0.4908 - val_acc: 0.8143\n",
            "Epoch 6/10\n",
            "280/280 [==============================] - 19s 68ms/step - loss: 0.2579 - acc: 0.8929 - val_loss: 0.5135 - val_acc: 0.7857\n",
            "Epoch 7/10\n",
            "280/280 [==============================] - 19s 68ms/step - loss: 0.2219 - acc: 0.9000 - val_loss: 0.5184 - val_acc: 0.7857\n",
            "Epoch 8/10\n",
            "280/280 [==============================] - 19s 69ms/step - loss: 0.1942 - acc: 0.9214 - val_loss: 0.5789 - val_acc: 0.8143\n",
            "Epoch 9/10\n",
            "280/280 [==============================] - 19s 68ms/step - loss: 0.1313 - acc: 0.9536 - val_loss: 0.6285 - val_acc: 0.8143\n",
            "Epoch 10/10\n",
            "280/280 [==============================] - 19s 68ms/step - loss: 0.1022 - acc: 0.9571 - val_loss: 0.6714 - val_acc: 0.8143\n"
          ],
          "name": "stdout"
        },
        {
          "output_type": "execute_result",
          "data": {
            "text/plain": [
              "<keras.callbacks.History at 0x7fb5c38fc9b0>"
            ]
          },
          "metadata": {
            "tags": []
          },
          "execution_count": 16
        }
      ]
    },
    {
      "metadata": {
        "id": "F4GH5Tz4bhce",
        "colab_type": "code",
        "colab": {}
      },
      "cell_type": "code",
      "source": [
        "prediction = model.predict_classes(test)"
      ],
      "execution_count": 0,
      "outputs": []
    },
    {
      "metadata": {
        "id": "sD6UJcv4TyTf",
        "colab_type": "code",
        "colab": {
          "base_uri": "https://localhost:8080/",
          "height": 133
        },
        "outputId": "666275e4-11aa-4bd6-a8a9-39b572f91103"
      },
      "cell_type": "code",
      "source": [
        "prediction"
      ],
      "execution_count": 27,
      "outputs": [
        {
          "output_type": "execute_result",
          "data": {
            "text/plain": [
              "array([1, 1, 1, 1, 1, 1, 1, 1, 1, 1, 1, 0, 0, 1, 0, 1, 1, 0, 1, 1, 1, 1,\n",
              "       1, 1, 1, 1, 1, 0, 0, 1, 0, 1, 1, 1, 1, 1, 1, 1, 1, 1, 1, 0, 1, 0,\n",
              "       0, 1, 1, 0, 0, 1, 1, 1, 0, 0, 1, 1, 1, 1, 1, 1, 0, 1, 0, 0, 1, 1,\n",
              "       0, 1, 1, 1, 1, 1, 1, 1, 1, 1, 1, 1, 1, 1, 1, 1, 1, 1, 1, 1, 1, 1,\n",
              "       1, 1, 1, 0, 0, 0, 1, 0, 0, 0, 0, 0, 0, 0, 0, 1, 0, 0, 0, 0, 0, 0,\n",
              "       0, 0, 1, 0, 0, 0, 0, 0, 1, 1, 0, 0, 0, 1, 0, 0, 0, 1, 0, 0, 0, 0,\n",
              "       1, 0, 1, 0, 0, 0, 0, 0, 0, 0, 0, 0, 0, 0, 0, 0, 1, 0])"
            ]
          },
          "metadata": {
            "tags": []
          },
          "execution_count": 27
        }
      ]
    },
    {
      "metadata": {
        "id": "qYEqjBwncmhP",
        "colab_type": "code",
        "outputId": "784219b3-0d6f-4a0e-980a-17f8513d691a",
        "colab": {
          "base_uri": "https://localhost:8080/",
          "height": 83
        }
      },
      "cell_type": "code",
      "source": [
        "tp,tn,fp,fn=0,0,0,0\n",
        "for i in prediction[:90]:\n",
        "  if i==0:\n",
        "    fn+=1\n",
        "for i in prediction[90:]:\n",
        "  if i==1:\n",
        "    fp+=1\n",
        "tp = 90-fn\n",
        "tn = 60-fp\n",
        "print(' True Positives = ',tp)\n",
        "print(' True Negatives = ',tn)\n",
        "print('False Positives = ',fp)\n",
        "print('False Negatives = ',fn)"
      ],
      "execution_count": 0,
      "outputs": [
        {
          "output_type": "stream",
          "text": [
            " True Positives =  72\n",
            " True Negatives =  49\n",
            "False Positives =  11\n",
            "False Negatives =  18\n"
          ],
          "name": "stdout"
        }
      ]
    },
    {
      "metadata": {
        "id": "K0daJAPkOGQ0",
        "colab_type": "code",
        "colab": {}
      },
      "cell_type": "code",
      "source": [
        "def test_img(model, path):\n",
        "  img = image.load_img(path, target_size=(200,300,1), color_mode='grayscale')\n",
        "  img = image.img_to_array(img)\n",
        "  img = img/255\n",
        "  x = model.predict(np.array([img]))\n",
        "  return 1 if x[0][1]>x[0][0] else 0"
      ],
      "execution_count": 0,
      "outputs": []
    },
    {
      "metadata": {
        "id": "2spIPA9AOd48",
        "colab_type": "code",
        "outputId": "f71d2bfa-4ddc-4ec1-c5e7-43a3768baf68",
        "colab": {
          "base_uri": "https://localhost:8080/",
          "height": 33
        }
      },
      "cell_type": "code",
      "source": [
        "w = test_img(model, '0.66-500x500.jpg')\n",
        "x = test_img(model, '120px-Beretta71.jpg')\n",
        "y = test_img(model, '120px-Beretta82.jpg')\n",
        "z = test_img(model, '120px-BerettaM90.jpg')\n",
        "w,x,y,z"
      ],
      "execution_count": 40,
      "outputs": [
        {
          "output_type": "execute_result",
          "data": {
            "text/plain": [
              "(1, 1, 1, 1)"
            ]
          },
          "metadata": {
            "tags": []
          },
          "execution_count": 40
        }
      ]
    },
    {
      "metadata": {
        "id": "OoGNchjHV1zl",
        "colab_type": "code",
        "colab": {
          "base_uri": "https://localhost:8080/",
          "height": 33
        },
        "outputId": "07a6b303-5aee-4580-adaa-159a6577ec96"
      },
      "cell_type": "code",
      "source": [
        "test_img(model, 'IMG_20190412_120852.jpg')"
      ],
      "execution_count": 41,
      "outputs": [
        {
          "output_type": "execute_result",
          "data": {
            "text/plain": [
              "0"
            ]
          },
          "metadata": {
            "tags": []
          },
          "execution_count": 41
        }
      ]
    },
    {
      "metadata": {
        "id": "lfff5NRAYAMu",
        "colab_type": "code",
        "colab": {
          "base_uri": "https://localhost:8080/",
          "height": 33
        },
        "outputId": "6191b8c6-5d0f-4fec-d05f-bee11eb2f3ae"
      },
      "cell_type": "code",
      "source": [
        "test_img(model, 'armas (13).jpg'),test_img(model, 'armas (15).jpg'),test_img(model, 'armas (22).jpg'),test_img(model, 'armas (23).jpg')"
      ],
      "execution_count": 42,
      "outputs": [
        {
          "output_type": "execute_result",
          "data": {
            "text/plain": [
              "(1, 1, 1, 1)"
            ]
          },
          "metadata": {
            "tags": []
          },
          "execution_count": 42
        }
      ]
    },
    {
      "metadata": {
        "id": "-F0U67MvYYM8",
        "colab_type": "code",
        "colab": {
          "base_uri": "https://localhost:8080/",
          "height": 33
        },
        "outputId": "99798813-82d6-4951-ec31-e4c2403c7919"
      },
      "cell_type": "code",
      "source": [
        "test_img(model, 'image_0182.jpg'), test_img(model, 'image_0184.jpg'), test_img(model, 'image_0218.jpg'), test_img(model, 'image_0235.jpg')"
      ],
      "execution_count": 43,
      "outputs": [
        {
          "output_type": "execute_result",
          "data": {
            "text/plain": [
              "(0, 1, 0, 0)"
            ]
          },
          "metadata": {
            "tags": []
          },
          "execution_count": 43
        }
      ]
    },
    {
      "metadata": {
        "id": "0WTUCcr8V9Y7",
        "colab_type": "code",
        "colab": {}
      },
      "cell_type": "code",
      "source": [
        "def get_frames(videoFile):\n",
        "    count = 0\n",
        "    cap = cv2.VideoCapture(videoFile)\n",
        "    frameRate = cap.get(5)\n",
        "    x=1\n",
        "    while(cap.isOpened()):\n",
        "        frameId = cap.get(1)\n",
        "        ret, frame = cap.read()\n",
        "        if (ret != True):\n",
        "            break\n",
        "        if (frameId % math.floor(frameRate) == 0):\n",
        "            filename =\"frame%d.jpg\" % count;count+=1\n",
        "            cv2.imwrite(filename, frame)\n",
        "    cap.release()\n",
        "    img = plt.imread('frame0.jpg')\n",
        "    plt.imshow(img)"
      ],
      "execution_count": 0,
      "outputs": []
    },
    {
      "metadata": {
        "id": "eohC_L3RV1Yr",
        "colab_type": "code",
        "colab": {}
      },
      "cell_type": "code",
      "source": [
        "'Glock Handgun Safety Tips Review for Beginners.mp4'"
      ],
      "execution_count": 0,
      "outputs": []
    }
  ]
}